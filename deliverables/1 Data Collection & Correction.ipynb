{
 "cells": [
  {
   "cell_type": "code",
   "execution_count": 2,
   "metadata": {},
   "outputs": [],
   "source": [
    "import pandas as pd\n",
    "\n",
    "from src.worldometer_gateway import WorldOMeterGateway\n",
    "from src.parser_service import ParserService\n",
    "from src.parser_service_yesterday import ParserServiceYesterday"
   ]
  },
  {
   "cell_type": "code",
   "execution_count": 10,
   "metadata": {
    "code_folding": []
   },
   "outputs": [],
   "source": [
    "def converter(a):\n",
    "    if a == ' ' or a == '':\n",
    "        return 0\n",
    "    if type(a) == str:\n",
    "        if a == 'N/A':\n",
    "            return 0\n",
    "        else:\n",
    "            return float(a.replace(',','')\\\n",
    "        #                  .replace('\\n','')\\\n",
    "                         .replace('+','')\\\n",
    "        #                  .replace(' ','')\\\n",
    "                         .strip())\n",
    "    else:\n",
    "        return a"
   ]
  },
  {
   "cell_type": "markdown",
   "metadata": {},
   "source": [
    "# JHU data"
   ]
  },
  {
   "cell_type": "markdown",
   "metadata": {},
   "source": [
    "## Generate agg data"
   ]
  },
  {
   "cell_type": "code",
   "execution_count": 439,
   "metadata": {},
   "outputs": [
    {
     "data": {
      "text/plain": [
       "Timestamp('2020-04-26 00:00:00')"
      ]
     },
     "execution_count": 439,
     "metadata": {},
     "output_type": "execute_result"
    }
   ],
   "source": [
    "df = pd.read_csv('https://raw.githubusercontent.com/CSSEGISandData/COVID-19/master/csse_covid_19_data/csse_covid_19_time_series/time_series_covid19_confirmed_global.csv')\n",
    "focus = df.copy().drop(['Lat','Long'], axis=1).set_index(['Country/Region','Province/State'])\n",
    "confirm = focus.groupby('Country/Region').sum()\n",
    "\n",
    "df = pd.read_csv('https://raw.githubusercontent.com/CSSEGISandData/COVID-19/master/csse_covid_19_data/csse_covid_19_time_series/time_series_covid19_deaths_global.csv')\n",
    "focus = df.copy().drop(['Lat','Long'], axis=1).set_index(['Country/Region','Province/State'])\n",
    "death = focus.groupby('Country/Region').sum()\n",
    "\n",
    "df = pd.read_csv('https://raw.githubusercontent.com/CSSEGISandData/COVID-19/master/csse_covid_19_data/csse_covid_19_time_series/time_series_covid19_recovered_global.csv')\n",
    "focus = df.copy().drop(['Lat','Long'], axis=1).set_index(['Country/Region','Province/State'])\n",
    "recover = focus.groupby('Country/Region').sum()\n",
    "\n",
    "for i in [confirm, recover, death]:\n",
    "    i.columns = pd.to_datetime(confirm.columns)\n",
    "\n",
    "# confirm.to_csv('data/JH/confirm_agg.csv')\n",
    "# death.to_csv('data/JH/death_agg.csv')\n",
    "# recover.to_csv('data/JH/recover_agg.csv')\n",
    "list(confirm)[-1]"
   ]
  },
  {
   "cell_type": "markdown",
   "metadata": {},
   "source": [
    "## Data correction"
   ]
  },
  {
   "cell_type": "code",
   "execution_count": 442,
   "metadata": {},
   "outputs": [],
   "source": [
    "confirm.at['Italy', '3/12/20'] = 15113\n",
    "death.at['Italy', '3/12/20'] = 1016\n",
    "\n",
    "confirm.at['Spain', '3/12/20'] = 3146\n",
    "confirm.at['France', '3/12/20'] = 2876\n",
    "confirm.at['Germany', '3/12/20'] = 2475\n",
    "confirm.at['Australia', '3/12/20'] = 156\n",
    "confirm.at['United Kingdom', '3/12/20'] = 590\n",
    "confirm.at['United Kingdom', '3/15/20'] = 1391\n",
    "confirm.at['United Kingdom', '3/19/20'] = 3269\n",
    "\n",
    "confirm.at['New Zealand','3/22/20'] = 66\n",
    "\n",
    "confirm.at['Serbia', '4/21/20'] = 6890\n",
    "confirm.at['Serbia', '4/22/20'] = 7114\n",
    "confirm.at['Serbia', '4/23/20'] = 7276\n",
    "confirm.at['Serbia', '4/24/20'] = 7483\n",
    "confirm.at['Serbia', '4/25/20'] = 7779\n",
    "confirm.at['Serbia', '4/26/20'] = 8042\n",
    "\n",
    "\n",
    "\n",
    "# output\n",
    "confirm.to_csv('data/JH/confirm_agg.csv')\n",
    "death.to_csv('data/JH/death_agg.csv')\n",
    "recover.to_csv('data/JH/recover_agg.csv')"
   ]
  },
  {
   "cell_type": "markdown",
   "metadata": {},
   "source": [
    "## Generate daily data"
   ]
  },
  {
   "cell_type": "code",
   "execution_count": 443,
   "metadata": {},
   "outputs": [],
   "source": [
    "df = confirm.T\n",
    "for i in list(df):\n",
    "    df[i] = df[i] - df[i].shift(1)\n",
    "df.to_csv('data/JH/daily_new_case.csv')\n",
    "daily_new = df.copy()\n",
    "\n",
    "df = death.T\n",
    "for i in list(df):\n",
    "    df[i] = (df[i] - df[i].shift(1)).fillna(0).astype(int)\n",
    "df.to_csv('data/JH/daily_new_death.csv')\n",
    "\n",
    "df = recover.T\n",
    "for i in list(df):\n",
    "    df[i] = df[i] - df[i].shift(1)\n",
    "df.to_csv('data/JH/daily_new_recover.csv')"
   ]
  },
  {
   "cell_type": "markdown",
   "metadata": {},
   "source": [
    "## Generate for world fire map"
   ]
  },
  {
   "cell_type": "code",
   "execution_count": 451,
   "metadata": {
    "code_folding": [
     0,
     8,
     15,
     21
    ]
   },
   "outputs": [],
   "source": [
    "set_asia = {'China','Korea, South','Australia','Japan','Malaysia','Philippines','Singapore','New Zealand','Vietnam','Brunei',\n",
    "            'Cambodia','Mongolia','Fiji','Laos','Papua New Guinea','India','Indonesia','Thailand','Sri Lanka','Bangladesh',\n",
    "            'Burma','Maldives','Nepal','Bhutan','Timor-Leste'}\n",
    "\n",
    "set_middle_east = {'Iran','Turkey','Pakistan','Saudi Arabia','United Arab Emirates','Qatar','Egypt','Morocco','Iraq','Bahrain','Kuwait',\n",
    "                   'Tunisia','Lebanon','Oman','Afghanistan','Jordan','Djibouti','Syria','Libya','Sudan','Somalia','West Bank and Gaza',\n",
    "                  'Yemen'}\n",
    "\n",
    "set_europe = {'Spain','Italy','Germany','France','United Kingdom','Switzerland','Belgium','Netherlands','Austria','Portugal',\n",
    "              'Israel','Sweden','Russia','Norway','Ireland','Czechia','Denmark','Poland','Romania','Luxembourg','Serbia','Finland',\n",
    "              'Greece','Iceland','Ukraine','Croatia','Estonia','Slovenia','Moldova','Lithuania','Armenia','Hungary','Belarus',\n",
    "              'Bosnia and Herzegovina','Kazakhstan','Azerbaijan','North Macedonia','Bulgaria','Latvia','Andorra','Slovakia',\n",
    "              'Uzbekistan','Cyprus','Albania','San Marino','Malta','Kyrgyzstan','Montenegro','Georgia','Liechtenstein','Monaco',\n",
    "              'Holy See','Kosovo'}\n",
    "\n",
    "set_africa = {'South Africa','Algeria','Cameroon','Burkina Faso','Cote d\\'Ivoire','Mauritius','Nigeria','Senegal','Ghana',\n",
    "              'Niger','Congo (Kinshasa)','Kenya','Guinea','Rwanda','Madagascar','Uganda','Congo (Brazzaville)','Togo','Ethiopia','Zambia','Mali','Guinea-Bissau',\n",
    "              'Eritrea','Tanzania','Benin','Gabon','Equatorial Guinea','Namibia','Angola','Liberia','Seychelles','Mozambique',\n",
    "              'Eswatini','Zimbabwe','Central African Republic','Chad','Cabo Verde','Mauritania','Sierra Leone','Botswana','Gambia',\n",
    "              'Malawi','Sao Tome and Principe','Burundi','South Sudan','Western Sahara'}\n",
    "\n",
    "set_america = {'US','Canada','Brazil','Chile','Ecuador','Peru','Mexico','Panama','Dominican Republic','Argentina','Colombia',\n",
    "               'Costa Rica','Uruguay','Cuba','Honduras','Bolivia','Venezuela','Paraguay','Trinidad and Tobago','Guatemala','El Salvador',\n",
    "               'Jamaica','Barbados','Bahamas','Guyana','Haiti','Antigua and Barbuda','Dominica','Saint Lucia','Grenada','Suriname',\n",
    "               'Saint Kitts and Nevis','Belize','Saint Vincent and the Grenadines','Nicaragua'}\n",
    "\n",
    "set_world = set_asia | set_middle_east | set_europe | set_africa | set_america\n"
   ]
  },
  {
   "cell_type": "code",
   "execution_count": 445,
   "metadata": {},
   "outputs": [],
   "source": [
    "fire = daily_new.copy().dropna()\n",
    "fire = fire[fire.sum().sort_values(ascending=False).index]\n",
    "\n",
    "fire_asia = fire[[i for i in fire.columns if i in set_asia]]\n",
    "fire_middle_east = fire[[i for i in fire.columns if i in set_middle_east]]\n",
    "fire_europe = fire[[i for i in fire.columns if i in set_europe]]\n",
    "fire_africa = fire[[i for i in fire.columns if i in set_africa]]\n",
    "fire_america = fire[[i for i in fire.columns if i in set_america]]\n",
    "\n",
    "fire = fire_asia.join(fire_middle_east).join(fire_africa).join(fire_europe).join(fire_america)\n",
    "fire.to_clipboard()\n",
    "fire.to_csv('data/fire map.csv')"
   ]
  },
  {
   "cell_type": "markdown",
   "metadata": {},
   "source": [
    "# WOM data"
   ]
  },
  {
   "cell_type": "markdown",
   "metadata": {},
   "source": [
    "## Live data"
   ]
  },
  {
   "cell_type": "code",
   "execution_count": 446,
   "metadata": {},
   "outputs": [
    {
     "name": "stdout",
     "output_type": "stream",
     "text": [
      "Last updated: April 27, 2020, 13:52 GMT\n"
     ]
    }
   ],
   "source": [
    "# Fetch data\n",
    "worldometer_gateway = WorldOMeterGateway()\n",
    "parser_service = ParserService()\n",
    "latest_data = worldometer_gateway.fetch()\n",
    "df = parser_service.create_df_worldometer(latest_data)\n",
    "last_updated = parser_service.parse_last_updated(latest_data)\n",
    "\n",
    "df.set_index('Country/Other', inplace=True)\n",
    "df.drop('Continent', axis=1, inplace=True)\n",
    "\n",
    "for i in list(df):\n",
    "    df[i] = df[i].apply(converter)\n",
    "    \n",
    "# write to file\n",
    "df.to_csv(r'data/worldometer/%s.csv' % last_updated.replace(':','-').replace(',','').replace(' ','_')[14:])\n",
    "df.to_csv(r'data/worldometer/wom_latest.csv')\n",
    "\n",
    "print(last_updated)\n",
    "today = df.copy()"
   ]
  },
  {
   "cell_type": "markdown",
   "metadata": {},
   "source": [
    "## Yesterday data"
   ]
  },
  {
   "cell_type": "code",
   "execution_count": 447,
   "metadata": {},
   "outputs": [
    {
     "name": "stdout",
     "output_type": "stream",
     "text": [
      "Last updated: April 27, 2020, 13:52 GMT\n"
     ]
    }
   ],
   "source": [
    "# Fetch data\n",
    "worldometer_gateway = WorldOMeterGateway()\n",
    "parser_service = ParserService()\n",
    "latest_data = worldometer_gateway.fetch()\n",
    "df = parser_service.create_df_worldometer_yesterday(latest_data)\n",
    "last_updated = parser_service.parse_last_updated(latest_data)\n",
    "\n",
    "df.set_index('Country/Other', inplace=True)\n",
    "df.drop('Continent', axis=1, inplace=True)\n",
    "\n",
    "for i in list(df):\n",
    "    df[i] = df[i].apply(converter)\n",
    "    \n",
    "# write to file\n",
    "date = last_updated.split(':')[1].split(',')[0].strip()\n",
    "df.to_csv(r'data/worldometer/daily_summary_%s.csv' % date)\n",
    "\n",
    "print(last_updated)\n",
    "yesterday = df.copy()"
   ]
  },
  {
   "cell_type": "markdown",
   "metadata": {},
   "source": [
    "## Timezone issude correct"
   ]
  },
  {
   "cell_type": "code",
   "execution_count": 448,
   "metadata": {},
   "outputs": [],
   "source": [
    "for country in today.index:\n",
    "    if today.at[country, 'New Cases'] == 0:\n",
    "        today.at[country, 'New Cases'] = yesterday.at[country, 'New Cases']\n",
    "today.to_csv(r'data/worldometer/wom_latest.csv')"
   ]
  },
  {
   "cell_type": "code",
   "execution_count": 449,
   "metadata": {
    "scrolled": false
   },
   "outputs": [
    {
     "data": {
      "text/html": [
       "<div>\n",
       "<style scoped>\n",
       "    .dataframe tbody tr th:only-of-type {\n",
       "        vertical-align: middle;\n",
       "    }\n",
       "\n",
       "    .dataframe tbody tr th {\n",
       "        vertical-align: top;\n",
       "    }\n",
       "\n",
       "    .dataframe thead th {\n",
       "        text-align: right;\n",
       "    }\n",
       "</style>\n",
       "<table border=\"1\" class=\"dataframe\">\n",
       "  <thead>\n",
       "    <tr style=\"text-align: right;\">\n",
       "      <th></th>\n",
       "      <th>New Case</th>\n",
       "      <th>Yesterday Case</th>\n",
       "      <th>Growth Percentage</th>\n",
       "    </tr>\n",
       "    <tr>\n",
       "      <th>Country</th>\n",
       "      <th></th>\n",
       "      <th></th>\n",
       "      <th></th>\n",
       "    </tr>\n",
       "  </thead>\n",
       "  <tbody>\n",
       "    <tr>\n",
       "      <th>Panama</th>\n",
       "      <td>241.0</td>\n",
       "      <td>200.0</td>\n",
       "      <td>20.50</td>\n",
       "    </tr>\n",
       "    <tr>\n",
       "      <th>Bangladesh</th>\n",
       "      <td>497.0</td>\n",
       "      <td>418.0</td>\n",
       "      <td>18.90</td>\n",
       "    </tr>\n",
       "    <tr>\n",
       "      <th>Finland</th>\n",
       "      <td>119.0</td>\n",
       "      <td>101.0</td>\n",
       "      <td>17.82</td>\n",
       "    </tr>\n",
       "    <tr>\n",
       "      <th>Kuwait</th>\n",
       "      <td>213.0</td>\n",
       "      <td>183.0</td>\n",
       "      <td>16.39</td>\n",
       "    </tr>\n",
       "    <tr>\n",
       "      <th>Saudi Arabia</th>\n",
       "      <td>1289.0</td>\n",
       "      <td>1223.0</td>\n",
       "      <td>5.40</td>\n",
       "    </tr>\n",
       "    <tr>\n",
       "      <th>Qatar</th>\n",
       "      <td>957.0</td>\n",
       "      <td>929.0</td>\n",
       "      <td>3.01</td>\n",
       "    </tr>\n",
       "    <tr>\n",
       "      <th>Kazakhstan</th>\n",
       "      <td>118.0</td>\n",
       "      <td>116.0</td>\n",
       "      <td>1.72</td>\n",
       "    </tr>\n",
       "  </tbody>\n",
       "</table>\n",
       "</div>"
      ],
      "text/plain": [
       "              New Case  Yesterday Case  Growth Percentage\n",
       "Country                                                  \n",
       "Panama           241.0           200.0              20.50\n",
       "Bangladesh       497.0           418.0              18.90\n",
       "Finland          119.0           101.0              17.82\n",
       "Kuwait           213.0           183.0              16.39\n",
       "Saudi Arabia    1289.0          1223.0               5.40\n",
       "Qatar            957.0           929.0               3.01\n",
       "Kazakhstan       118.0           116.0               1.72"
      ]
     },
     "execution_count": 449,
     "metadata": {},
     "output_type": "execute_result"
    }
   ],
   "source": [
    "increased = pd.DataFrame()\n",
    "for country in today.sort_values(['Total Cases'], ascending=False).index:\n",
    "    if today.at[country, 'New Cases'] > yesterday.at[country, 'New Cases'] and yesterday.at[country, 'New Cases'] > 100:\n",
    "        increased = increased.append([[country, today.at[country, 'New Cases'], yesterday.at[country, 'New Cases'], round(today.at[country, 'New Cases']/yesterday.at[country, 'New Cases']*100 -100, 2)]])\n",
    "increased.columns = ['Country','New Case','Yesterday Case','Growth Percentage']\n",
    "increased = increased.set_index('Country').sort_values('Growth Percentage', ascending=False).head(30)\n",
    "increased"
   ]
  },
  {
   "cell_type": "code",
   "execution_count": 450,
   "metadata": {},
   "outputs": [
    {
     "data": {
      "text/html": [
       "<div>\n",
       "<style scoped>\n",
       "    .dataframe tbody tr th:only-of-type {\n",
       "        vertical-align: middle;\n",
       "    }\n",
       "\n",
       "    .dataframe tbody tr th {\n",
       "        vertical-align: top;\n",
       "    }\n",
       "\n",
       "    .dataframe thead th {\n",
       "        text-align: right;\n",
       "    }\n",
       "</style>\n",
       "<table border=\"1\" class=\"dataframe\">\n",
       "  <thead>\n",
       "    <tr style=\"text-align: right;\">\n",
       "      <th></th>\n",
       "      <th>New Case</th>\n",
       "      <th>New Test</th>\n",
       "      <th>Positive Percentage</th>\n",
       "    </tr>\n",
       "    <tr>\n",
       "      <th>Country</th>\n",
       "      <th></th>\n",
       "      <th></th>\n",
       "      <th></th>\n",
       "    </tr>\n",
       "  </thead>\n",
       "  <tbody>\n",
       "    <tr>\n",
       "      <th>Mexico</th>\n",
       "      <td>835</td>\n",
       "      <td>2135</td>\n",
       "      <td>39.11</td>\n",
       "    </tr>\n",
       "    <tr>\n",
       "      <th>Afghanistan</th>\n",
       "      <td>172</td>\n",
       "      <td>604</td>\n",
       "      <td>28.48</td>\n",
       "    </tr>\n",
       "    <tr>\n",
       "      <th>Qatar</th>\n",
       "      <td>957</td>\n",
       "      <td>3420</td>\n",
       "      <td>27.98</td>\n",
       "    </tr>\n",
       "    <tr>\n",
       "      <th>Panama</th>\n",
       "      <td>241</td>\n",
       "      <td>1242</td>\n",
       "      <td>19.40</td>\n",
       "    </tr>\n",
       "    <tr>\n",
       "      <th>Honduras</th>\n",
       "      <td>34</td>\n",
       "      <td>186</td>\n",
       "      <td>18.28</td>\n",
       "    </tr>\n",
       "    <tr>\n",
       "      <th>USA</th>\n",
       "      <td>756</td>\n",
       "      <td>5557</td>\n",
       "      <td>13.60</td>\n",
       "    </tr>\n",
       "    <tr>\n",
       "      <th>Belarus</th>\n",
       "      <td>826</td>\n",
       "      <td>6320</td>\n",
       "      <td>13.07</td>\n",
       "    </tr>\n",
       "    <tr>\n",
       "      <th>Bangladesh</th>\n",
       "      <td>497</td>\n",
       "      <td>3812</td>\n",
       "      <td>13.04</td>\n",
       "    </tr>\n",
       "    <tr>\n",
       "      <th>Jamaica</th>\n",
       "      <td>45</td>\n",
       "      <td>394</td>\n",
       "      <td>11.42</td>\n",
       "    </tr>\n",
       "    <tr>\n",
       "      <th>Bolivia</th>\n",
       "      <td>84</td>\n",
       "      <td>796</td>\n",
       "      <td>10.55</td>\n",
       "    </tr>\n",
       "    <tr>\n",
       "      <th>Armenia</th>\n",
       "      <td>62</td>\n",
       "      <td>616</td>\n",
       "      <td>10.06</td>\n",
       "    </tr>\n",
       "    <tr>\n",
       "      <th>Canada</th>\n",
       "      <td>1541</td>\n",
       "      <td>15845</td>\n",
       "      <td>9.73</td>\n",
       "    </tr>\n",
       "    <tr>\n",
       "      <th>Pakistan</th>\n",
       "      <td>605</td>\n",
       "      <td>6391</td>\n",
       "      <td>9.47</td>\n",
       "    </tr>\n",
       "    <tr>\n",
       "      <th>Ukraine</th>\n",
       "      <td>392</td>\n",
       "      <td>4146</td>\n",
       "      <td>9.45</td>\n",
       "    </tr>\n",
       "    <tr>\n",
       "      <th>Trinidad and Tobago</th>\n",
       "      <td>1</td>\n",
       "      <td>11</td>\n",
       "      <td>9.09</td>\n",
       "    </tr>\n",
       "    <tr>\n",
       "      <th>Iran</th>\n",
       "      <td>991</td>\n",
       "      <td>11016</td>\n",
       "      <td>9.00</td>\n",
       "    </tr>\n",
       "    <tr>\n",
       "      <th>Indonesia</th>\n",
       "      <td>214</td>\n",
       "      <td>3058</td>\n",
       "      <td>7.00</td>\n",
       "    </tr>\n",
       "    <tr>\n",
       "      <th>Serbia</th>\n",
       "      <td>233</td>\n",
       "      <td>3614</td>\n",
       "      <td>6.45</td>\n",
       "    </tr>\n",
       "    <tr>\n",
       "      <th>Finland</th>\n",
       "      <td>119</td>\n",
       "      <td>2137</td>\n",
       "      <td>5.57</td>\n",
       "    </tr>\n",
       "    <tr>\n",
       "      <th>Bosnia and Herzegovina</th>\n",
       "      <td>49</td>\n",
       "      <td>992</td>\n",
       "      <td>4.94</td>\n",
       "    </tr>\n",
       "    <tr>\n",
       "      <th>Morocco</th>\n",
       "      <td>50</td>\n",
       "      <td>1017</td>\n",
       "      <td>4.92</td>\n",
       "    </tr>\n",
       "    <tr>\n",
       "      <th>Russia</th>\n",
       "      <td>6198</td>\n",
       "      <td>141735</td>\n",
       "      <td>4.37</td>\n",
       "    </tr>\n",
       "    <tr>\n",
       "      <th>Romania</th>\n",
       "      <td>303</td>\n",
       "      <td>7316</td>\n",
       "      <td>4.14</td>\n",
       "    </tr>\n",
       "    <tr>\n",
       "      <th>Hungary</th>\n",
       "      <td>83</td>\n",
       "      <td>2120</td>\n",
       "      <td>3.92</td>\n",
       "    </tr>\n",
       "    <tr>\n",
       "      <th>Philippines</th>\n",
       "      <td>198</td>\n",
       "      <td>5100</td>\n",
       "      <td>3.88</td>\n",
       "    </tr>\n",
       "    <tr>\n",
       "      <th>Sri Lanka</th>\n",
       "      <td>48</td>\n",
       "      <td>1390</td>\n",
       "      <td>3.45</td>\n",
       "    </tr>\n",
       "    <tr>\n",
       "      <th>Belgium</th>\n",
       "      <td>553</td>\n",
       "      <td>24975</td>\n",
       "      <td>2.21</td>\n",
       "    </tr>\n",
       "    <tr>\n",
       "      <th>Poland</th>\n",
       "      <td>144</td>\n",
       "      <td>7226</td>\n",
       "      <td>1.99</td>\n",
       "    </tr>\n",
       "    <tr>\n",
       "      <th>Spain</th>\n",
       "      <td>2793</td>\n",
       "      <td>146012</td>\n",
       "      <td>1.91</td>\n",
       "    </tr>\n",
       "    <tr>\n",
       "      <th>El Salvador</th>\n",
       "      <td>25</td>\n",
       "      <td>1423</td>\n",
       "      <td>1.76</td>\n",
       "    </tr>\n",
       "  </tbody>\n",
       "</table>\n",
       "</div>"
      ],
      "text/plain": [
       "                        New Case  New Test  Positive Percentage\n",
       "Country                                                        \n",
       "Mexico                       835      2135                39.11\n",
       "Afghanistan                  172       604                28.48\n",
       "Qatar                        957      3420                27.98\n",
       "Panama                       241      1242                19.40\n",
       "Honduras                      34       186                18.28\n",
       "USA                          756      5557                13.60\n",
       "Belarus                      826      6320                13.07\n",
       "Bangladesh                   497      3812                13.04\n",
       "Jamaica                       45       394                11.42\n",
       "Bolivia                       84       796                10.55\n",
       "Armenia                       62       616                10.06\n",
       "Canada                      1541     15845                 9.73\n",
       "Pakistan                     605      6391                 9.47\n",
       "Ukraine                      392      4146                 9.45\n",
       "Trinidad and Tobago            1        11                 9.09\n",
       "Iran                         991     11016                 9.00\n",
       "Indonesia                    214      3058                 7.00\n",
       "Serbia                       233      3614                 6.45\n",
       "Finland                      119      2137                 5.57\n",
       "Bosnia and Herzegovina        49       992                 4.94\n",
       "Morocco                       50      1017                 4.92\n",
       "Russia                      6198    141735                 4.37\n",
       "Romania                      303      7316                 4.14\n",
       "Hungary                       83      2120                 3.92\n",
       "Philippines                  198      5100                 3.88\n",
       "Sri Lanka                     48      1390                 3.45\n",
       "Belgium                      553     24975                 2.21\n",
       "Poland                       144      7226                 1.99\n",
       "Spain                       2793    146012                 1.91\n",
       "El Salvador                   25      1423                 1.76"
      ]
     },
     "execution_count": 450,
     "metadata": {},
     "output_type": "execute_result"
    }
   ],
   "source": [
    "pos_rate = pd.DataFrame()\n",
    "for country in today.sort_values(['Total Cases'], ascending=False).index:\n",
    "    if today.at[country,'Total Tests'] > yesterday.at[country,'Total Tests']:\n",
    "        today_test = int(today.at[country,'Total Tests'] - yesterday.at[country,'Total Tests'])\n",
    "        today_pos_rate = round(today.at[country,'New Cases'] / today_test * 100, 2)\n",
    "        pos_rate = pos_rate.append([[\n",
    "            country,\n",
    "            int(today.at[country,'New Cases']),\n",
    "            today_test,\n",
    "            today_pos_rate\n",
    "        ]]) \n",
    "pos_rate.columns=['Country','New Case','New Test','Positive Percentage']\n",
    "pos_rate = pos_rate.set_index('Country').sort_values('Positive Percentage', ascending=False).head(30)\n",
    "pos_rate"
   ]
  },
  {
   "cell_type": "markdown",
   "metadata": {},
   "source": [
    "# NYT US data"
   ]
  },
  {
   "cell_type": "markdown",
   "metadata": {},
   "source": [
    "## County level"
   ]
  },
  {
   "cell_type": "code",
   "execution_count": 452,
   "metadata": {},
   "outputs": [
    {
     "data": {
      "text/plain": [
       "'2020-04-26'"
      ]
     },
     "execution_count": 452,
     "metadata": {},
     "output_type": "execute_result"
    }
   ],
   "source": [
    "df = pd.read_csv('https://raw.githubusercontent.com/nytimes/covid-19-data/master/us-counties.csv')\n",
    "\n",
    "df.to_csv('data/Country detailed/Detailed Data - US - NYT.csv')\n",
    "df.iloc[-1]['date']"
   ]
  },
  {
   "cell_type": "markdown",
   "metadata": {},
   "source": [
    "## State level (cumulative for Tableau)"
   ]
  },
  {
   "cell_type": "code",
   "execution_count": 422,
   "metadata": {},
   "outputs": [],
   "source": [
    "df = pd.read_csv('https://raw.githubusercontent.com/nytimes/covid-19-data/master/us-states.csv')\n",
    "df = df.pivot(index='date',columns='state',values='cases').iloc[32:]\n",
    "df = df[df.sum().sort_values(ascending=False).index]\n",
    "# for i in list(df):\n",
    "#     df[i] = df[i] - df[i].shift(1)\n",
    "df.to_csv('data/Country detailed/US by state.csv')\n",
    "df.index[-1]\n",
    "\n",
    "# Generate daily increase of yesterday for tableau\n",
    "for i in list(df):\n",
    "    df[i] = df[i] - df[i].shift(1)\n",
    "df.iloc[-1:,:].reset_index(drop=True).to_csv('data/Country detailed/US_yesterday_by_state.csv')"
   ]
  },
  {
   "cell_type": "markdown",
   "metadata": {},
   "source": [
    "## State level (daily new for dynamics)"
   ]
  },
  {
   "cell_type": "code",
   "execution_count": 423,
   "metadata": {},
   "outputs": [],
   "source": [
    "df = pd.read_csv('https://raw.githubusercontent.com/nytimes/covid-19-data/master/us-states.csv')\n",
    "df = df.pivot(index='date',columns='state',values='cases').iloc[32:]\n",
    "df = df[df.iloc[-1].sort_values(ascending=False).index]\n",
    "for i in list(df):\n",
    "    df[i] = df[i] - df[i].shift(1)\n",
    "df.index.rename('US', inplace=True)\n",
    "df.to_clipboard()"
   ]
  },
  {
   "cell_type": "code",
   "execution_count": 138,
   "metadata": {},
   "outputs": [],
   "source": []
  }
 ],
 "metadata": {
  "kernelspec": {
   "display_name": "Python 3",
   "language": "python",
   "name": "python3"
  },
  "language_info": {
   "codemirror_mode": {
    "name": "ipython",
    "version": 3
   },
   "file_extension": ".py",
   "mimetype": "text/x-python",
   "name": "python",
   "nbconvert_exporter": "python",
   "pygments_lexer": "ipython3",
   "version": "3.7.1"
  },
  "toc": {
   "base_numbering": 1,
   "nav_menu": {},
   "number_sections": true,
   "sideBar": true,
   "skip_h1_title": false,
   "title_cell": "Table of Contents",
   "title_sidebar": "Contents",
   "toc_cell": false,
   "toc_position": {
    "height": "calc(100% - 180px)",
    "left": "10px",
    "top": "150px",
    "width": "384px"
   },
   "toc_section_display": true,
   "toc_window_display": true
  }
 },
 "nbformat": 4,
 "nbformat_minor": 4
}
